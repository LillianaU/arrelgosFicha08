{
  "nbformat": 4,
  "nbformat_minor": 0,
  "metadata": {
    "colab": {
      "provenance": [],
      "authorship_tag": "ABX9TyP7tmv57+BtKlmhlSDMMVqx",
      "include_colab_link": true
    },
    "kernelspec": {
      "name": "python3",
      "display_name": "Python 3"
    },
    "language_info": {
      "name": "python"
    }
  },
  "cells": [
    {
      "cell_type": "markdown",
      "metadata": {
        "id": "view-in-github",
        "colab_type": "text"
      },
      "source": [
        "<a href=\"https://colab.research.google.com/github/LillianaU/arrelgosFicha08/blob/main/8%2C21%2C29_08_2025.ipynb\" target=\"_parent\"><img src=\"https://colab.research.google.com/assets/colab-badge.svg\" alt=\"Open In Colab\"/></a>"
      ]
    },
    {
      "cell_type": "code",
      "execution_count": null,
      "metadata": {
        "colab": {
          "base_uri": "https://localhost:8080/"
        },
        "id": "TUuiogM7KWbx",
        "outputId": "70f8076b-d5fe-4fb7-b043-dc2db1cfdf1e"
      },
      "outputs": [
        {
          "output_type": "stream",
          "name": "stdout",
          "text": [
            "0\n",
            "1\n",
            "2\n",
            "3\n",
            "4\n",
            "5\n",
            "6\n",
            "7\n",
            "8\n",
            "9\n",
            "Tiempo transcurrido while: 0.000507354736328125\n",
            "0\n",
            "1\n",
            "2\n",
            "3\n",
            "4\n",
            "5\n",
            "6\n",
            "7\n",
            "8\n",
            "9\n",
            "Tiempo transcurrido for: 0.0001838207244873047\n",
            "el sistema operativo es otro win 64\n"
          ]
        }
      ],
      "source": [
        "#  ciclo while\n",
        "import time\n",
        "import os # manejo de sistemas operativo\n",
        "import sys # liberia de manejo de sistemas comando bat\n",
        "# este algoritmo lo que hace es medir el tiempo de ejecucion de un ciclo while y un ciclo for\n",
        "# para ver cual es mas rapido\n",
        "inicio= time.time()# tiempo de ejecucion  esta capturando el tiempo\n",
        "contador =0 # contador\n",
        "while contador < 10: # controlando el ciclo, es decir repitiendo hasta que\n",
        "# se cumpla la condicion\n",
        "    print(contador) # imprime el valor que tiene el contador\n",
        "    #por cada rotacion del ciclo\n",
        "    contador += 1# incrementa el contador\n",
        "fin= time.time()# toma el tiempo que finalizo en contador\n",
        "print(\"Tiempo transcurrido while:\", fin-inicio)\n",
        "inicio= time.time()# tiempo de ejecucion\n",
        "for contador in range(10):\n",
        "    print(contador)\n",
        "fin= time.time()\n",
        "print(\"Tiempo transcurrido for:\", fin-inicio)\n",
        "if sys.platform == \"win32\":\n",
        "    print (\"el sistemas operativo win 32\")\n",
        "    os.system('cls')\n",
        "else:\n",
        "    print(\"el sistema operativo es otro win 64\")\n",
        "    os.system('clear')"
      ]
    },
    {
      "cell_type": "code",
      "source": [],
      "metadata": {
        "id": "XTOUXLkNJZD_"
      },
      "execution_count": null,
      "outputs": []
    },
    {
      "cell_type": "markdown",
      "source": [],
      "metadata": {
        "id": "lN_e7SYB2Nh-"
      }
    },
    {
      "cell_type": "markdown",
      "source": [],
      "metadata": {
        "id": "I1egj3QJ2QcK"
      }
    },
    {
      "cell_type": "code",
      "source": [],
      "metadata": {
        "id": "Ynt0FZ9-4w5N"
      },
      "execution_count": null,
      "outputs": []
    },
    {
      "cell_type": "code",
      "source": [
        "# manejo de fecha\n",
        "from  datetime import datetime as dt # esta libreria puede servir para captura de fechas\n",
        "#dt es abrviacion de datetime\n",
        "fecha = dt.now()# esta capturando la fecha actual\n",
        "print(\"fecha actual \", fecha)"
      ],
      "metadata": {
        "colab": {
          "base_uri": "https://localhost:8080/"
        },
        "id": "iMqpmj1LOWhz",
        "outputId": "e44de27f-66f9-4dde-db4c-cfb3159e30b7"
      },
      "execution_count": null,
      "outputs": [
        {
          "output_type": "stream",
          "name": "stdout",
          "text": [
            "fecha actual  2025-08-15 21:04:30.504975\n"
          ]
        }
      ]
    },
    {
      "cell_type": "markdown",
      "source": [
        "https://docs.python.org/3/library/datetime.html"
      ],
      "metadata": {
        "id": "HQqm90LPmoql"
      }
    },
    {
      "cell_type": "code",
      "source": [
        "from datetime import datetime as dt\n",
        "fecha = dt.now()\n",
        "# generar un formato personalizado dia mes y año\n",
        "print(fecha.strftime(\"%d/%m/%Y\"))\n",
        "# %d dia\n",
        "#%m mes\n",
        "# Y año\n",
        "# formato texto o nombre del  de la fecha\n",
        "# %A estod dicioendo el nombre del dia ejemplo HOy es vernes, muestra viernes\n",
        "# %B es el nombre del mes ejemplo AGOSTO\n",
        "print(fecha.strftime(\"%A,%d de %B de %Y\" ))\n",
        "print(fecha.strftime(\"%H:%M:%S\"))\n",
        "\n"
      ],
      "metadata": {
        "colab": {
          "base_uri": "https://localhost:8080/"
        },
        "id": "_u_jq26tlv68",
        "outputId": "b794dff7-fdda-45f1-f2f2-f1357d7c46e4"
      },
      "execution_count": null,
      "outputs": [
        {
          "output_type": "stream",
          "name": "stdout",
          "text": [
            "15/08/2025\n",
            "Friday,15 de August de 2025\n",
            "21:04:30\n"
          ]
        }
      ]
    },
    {
      "cell_type": "markdown",
      "source": [
        "controlar cicloc on breck y  booleanos"
      ],
      "metadata": {
        "id": "s36zB2YoqNqw"
      }
    },
    {
      "cell_type": "code",
      "source": [
        "\"\"\" vamos hacer un progarama que se detenga cuando cumpla\n",
        "10 repeticiones  pero el mietras inicia e TRUE, cuado\n",
        "se cumpla la codicion deb detener el programa\"\"\"\n",
        "contador = 1\n",
        "while True:\n",
        "  if contador == 10:\n",
        "    print(f\"{contador} se cumplio la cantidad de repeticiones\" )\n",
        "    break\n",
        "\n",
        "  contador+= 1\n",
        "\n"
      ],
      "metadata": {
        "colab": {
          "base_uri": "https://localhost:8080/"
        },
        "id": "V1QqMI_8qSoX",
        "outputId": "cd32ac00-a89e-4d69-a56e-a9aaca0ccebc"
      },
      "execution_count": null,
      "outputs": [
        {
          "output_type": "stream",
          "name": "stdout",
          "text": [
            "10 se cumplio la cantidad de repeticiones\n"
          ]
        }
      ]
    },
    {
      "cell_type": "code",
      "source": [
        "palabra = input(\"Ingrese una palabra: \")\n",
        "palabraMayuscula = palabra.upper()\n",
        "print(palabraMayuscula)\n",
        "palabraMinuscula = palabra.lower()\n",
        "print(palabraMinuscula)"
      ],
      "metadata": {
        "colab": {
          "base_uri": "https://localhost:8080/"
        },
        "id": "s7gLIzWKuilG",
        "outputId": "c4e87a44-d5dc-423e-c24f-93f92457598c"
      },
      "execution_count": null,
      "outputs": [
        {
          "output_type": "stream",
          "name": "stdout",
          "text": [
            "Ingrese una palabra: e\n",
            "E\n",
            "e\n"
          ]
        }
      ]
    },
    {
      "cell_type": "code",
      "source": [
        "# https://docs.python.org/es/3.13/library/stdtypes.html#bytearray.lower\n",
        "\n",
        "\n",
        "palabra='Hola mundo'\n",
        "\n",
        "print(f\"{palabra.title()}\")\n"
      ],
      "metadata": {
        "colab": {
          "base_uri": "https://localhost:8080/"
        },
        "id": "4ZMduhRZvdfk",
        "outputId": "2010a572-9468-4ad5-cf21-80b82c8fd5ee"
      },
      "execution_count": null,
      "outputs": [
        {
          "output_type": "stream",
          "name": "stdout",
          "text": [
            "Hola Mundo\n"
          ]
        }
      ]
    },
    {
      "cell_type": "markdown",
      "source": [],
      "metadata": {
        "id": "MeoldQCY4w4C"
      }
    },
    {
      "cell_type": "markdown",
      "source": [
        "https://mimo.org/glossary/python/datetime"
      ],
      "metadata": {
        "id": "O3gcyA8sm8g_"
      }
    },
    {
      "cell_type": "markdown",
      "source": [
        "queda pendiente matrices."
      ],
      "metadata": {
        "id": "7ceOqFuO4va5"
      }
    },
    {
      "cell_type": "code",
      "source": [
        "# Códigos ANSI\n",
        "print(\"\\033[31mTexto en rojo\")\n",
        "print(\"\\033[32mTexto en verde\")\n",
        "print(\"\\033[33mTexto en amarillo\")\n",
        "print(\"\\033[34mTexto en azul\")\n",
        "print(\"\\033[0mTexto normal\")  # Reset color\n"
      ],
      "metadata": {
        "colab": {
          "base_uri": "https://localhost:8080/"
        },
        "id": "8IvJnSBS40Va",
        "outputId": "485dbddd-7983-4c43-ca11-31857597e683"
      },
      "execution_count": null,
      "outputs": [
        {
          "output_type": "stream",
          "name": "stdout",
          "text": [
            "\u001b[31mTexto en rojo\n",
            "\u001b[32mTexto en verde\n",
            "\u001b[33mTexto en amarillo\n",
            "\u001b[34mTexto en azul\n",
            "\u001b[0mTexto normal\n"
          ]
        }
      ]
    },
    {
      "cell_type": "markdown",
      "source": [
        "codigo de colres\n",
        "\n",
        "![Sin título.png](data:image/png;base64,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)"
      ],
      "metadata": {
        "id": "R0eLRXur6NHM"
      }
    },
    {
      "cell_type": "markdown",
      "source": [
        "documentacion numpy [numpy](https://numpy.org/devdocs/reference/generated/numpy.zeros.html#numpy.zeros)\n",
        "\n",
        "w3Shools [w3schools](https://www.w3schools.com/python/numpy/default.asp)\n",
        "\n",
        "[realpython](https://realpython.com/python-news-august-2025/#numpy-232-includes-python-314-wheels)\n",
        " [ciencia de cuputacion](https://es.khanacademy.org/computing/computer-science)\n"
      ],
      "metadata": {
        "id": "HrguYs7i8eE-"
      }
    },
    {
      "cell_type": "code",
      "source": [
        "import numpy as np\n",
        "#este es la abreviatura de numpy para mejor manejo \"np\"\n",
        "# creacion de un vector con 5 posiciones\n",
        "vector = np.zeros(5)\n",
        "print(\"\\033[31m el vector de ceros\", vector)\n",
        "# vector per con unos\n",
        "vector1= np.ones(5)\n",
        "print(\"\\033[32m el vector de unos\", vector1)\n",
        "# crear un vector con valorea aleatorios de un arango del 1 al 100 5 posiciones\n",
        "vector2= np.random.randint(1,100,5) # numeros enteros\n",
        "print(\"\\033[34m el vector de numeros aleatorios\", vector2)\n",
        "# decimales\n",
        "vector3= np.random.rand(5)\n",
        "print(\"\\033[35m el vector de numeros aleatorios decimales\", vector3)\n",
        "# quiero llenar los valores del vecto por teclado\n",
        "\"\"\"\n",
        "crearlo con ceros y con un ciclo llenarlos\n",
        "\"\"\"\n",
        "numero=np.zeros(5)\n",
        "print(\"\\033[36m numeros para llenarlo manual\", numero)\n",
        "# asi se recorre el vector para mostrarlo por medio de un por\n",
        "for interante in vector3:\n",
        "   print(\" numero\",interante)\n",
        "# cambiar los valores del vector con datos introduccidos por teclado\n",
        "for indice in range(len(numero)) :\n",
        "  numero[indice]=float(input(\"ingrese el numero\"))\n",
        "print(\"\\033[32m numeros para llenarlo manual \\n\", numero)\n",
        "# \\n es para que no tenga salto de linea\n",
        "\n"
      ],
      "metadata": {
        "colab": {
          "base_uri": "https://localhost:8080/"
        },
        "id": "tYjrjgBb6iQc",
        "outputId": "47600cbe-13a9-439e-9f79-c1374fa2e66e"
      },
      "execution_count": null,
      "outputs": [
        {
          "output_type": "stream",
          "name": "stdout",
          "text": [
            "\u001b[31m el vector de ceros [0. 0. 0. 0. 0.]\n",
            "\u001b[32m el vector de unos [1. 1. 1. 1. 1.]\n",
            "\u001b[34m el vector de numeros aleatorios [96 98 86 59 51]\n",
            "\u001b[35m el vector de numeros aleatorios decimales [0.80543646 0.63542122 0.93935341 0.36670663 0.56151578]\n",
            "\u001b[36m numeros para llenarlo manual [0. 0. 0. 0. 0.]\n",
            " numero 0.8054364643010667\n",
            " numero 0.6354212227339\n",
            " numero 0.9393534144046178\n",
            " numero 0.3667066296848347\n",
            " numero 0.5615157824792554\n",
            "ingrese el numero3\n",
            "ingrese el numero4\n",
            "ingrese el numero6\n",
            "ingrese el numero6\n",
            "ingrese el numero8\n",
            "\u001b[32m numeros para llenarlo manual \n",
            " [3. 4. 6. 6. 8.]\n"
          ]
        }
      ]
    },
    {
      "cell_type": "code",
      "source": [
        "import numpy as np\n",
        "\n",
        "## llenarlos con  expacion apra luego cambiar su valor\n",
        "vector=np.array(\"Q\"*5)\n",
        "print(vector)\n",
        "VectoresLetras=np.array([\"e\",\"r\",\"k\"])\n",
        "print(\"\\033[32m letras \\n\", VectoresLetras)"
      ],
      "metadata": {
        "colab": {
          "base_uri": "https://localhost:8080/"
        },
        "id": "A_KWOQHvEEfQ",
        "outputId": "227c47f5-7e60-4af9-f114-6868dbe699c1"
      },
      "execution_count": null,
      "outputs": [
        {
          "output_type": "stream",
          "name": "stdout",
          "text": [
            "QQQQQ\n",
            "\u001b[32m letras \n",
            " ['e' 'r' 'k']\n"
          ]
        }
      ]
    },
    {
      "cell_type": "code",
      "source": [],
      "metadata": {
        "id": "boTpC6RmEbSW"
      },
      "execution_count": null,
      "outputs": []
    },
    {
      "cell_type": "code",
      "source": [],
      "metadata": {
        "id": "Tzvy4OEyZVed"
      },
      "execution_count": null,
      "outputs": []
    },
    {
      "cell_type": "markdown",
      "source": [
        "[retos-programacion](https://github.com/mouredev/retos-programacion-2023)\n",
        "\n",
        "[leetcode](https://leetcode.com/)\n",
        "\n",
        "[hackerrank](https://www.hackerrank.com/)"
      ],
      "metadata": {
        "id": "TMiRIB2nZVqz"
      }
    },
    {
      "cell_type": "code",
      "source": [
        "import numpy as np\n",
        "\n",
        "vector1=np.random.randint(1,100,5)\n",
        "print(\"\\033[32m vector1\", vector1)\n",
        "vector2=np.random.randint(1,100,5)\n",
        "print(\"\\033[34m vector2\",vector2)\n",
        "vector3=np.random.randint(1,100,5)\n",
        "print(\"\\033[35m vector3\",vector3)\n",
        "vector4=np.random.randint(1,100,5)\n",
        "print(\"\\033[36m vector4\",vector4)\n",
        "# suma del vector1 y el vector2\n",
        "vector5=vector1+vector2\n",
        "print(\"\\033[32m vector1+vector2\",vector5)\n",
        "# para sumar los vectores de otra forma por ciclo para\n",
        "for indice in range(len(vector5)):\n",
        "  vector5[indice]=vector1[indice]+vector2[indice]\n",
        "print(\"\\033[32m vector1+vector2\",vector5)\n",
        "print(\"\\033[34m cantidad de prosiciones\",len(vector5))\n",
        "# ordenar el vector5\n",
        "vector5.sort()\n",
        "print(\"\\033[35m vector5\",vector5)\n",
        "#sumar todos los elementos que tiene el vecto3\n",
        "suma=0\n",
        "for indice in range(len(vector3)):\n",
        "  suma=suma+vector3[indice]\n",
        "print(\"\\033[36m suma de vector3\",suma)\n",
        "#otra forma es\n",
        "suma=np.sum(vector3)\n",
        "print(\"\\033[36m suma de vector3\",suma)\n",
        "\"\"\" tabla de operaciones en vectores\"\"\"\n",
        "suma=vector1+vector2\n",
        "resta=vector1-vector2\n",
        "multiplicacion=vector1*vector2\n",
        "division=vector1/vector2\n",
        "potencia=vector1**vector2\n",
        "raiz=vector1**0.5"
      ],
      "metadata": {
        "colab": {
          "base_uri": "https://localhost:8080/"
        },
        "id": "EooRetF4ZvJR",
        "outputId": "22212e32-27a5-44e2-a989-0f7fa1ff6654"
      },
      "execution_count": null,
      "outputs": [
        {
          "output_type": "stream",
          "name": "stdout",
          "text": [
            "\u001b[32m vector1 [41 27 95 85 80]\n",
            "\u001b[34m vector2 [38 36 39 27 38]\n",
            "\u001b[35m vector3 [77 70  4 50 14]\n",
            "\u001b[36m vector4 [95 25 46 86 28]\n",
            "\u001b[32m vector1+vector2 [ 79  63 134 112 118]\n",
            "\u001b[32m vector1+vector2 [ 79  63 134 112 118]\n",
            "\u001b[34m cantidad de prosiciones 5\n",
            "\u001b[35m vector5 [ 63  79 112 118 134]\n"
          ]
        }
      ]
    },
    {
      "cell_type": "markdown",
      "source": [
        "matrices con numpy"
      ],
      "metadata": {
        "id": "L5AuYISU2UMB"
      }
    },
    {
      "cell_type": "code",
      "source": [
        "import numpy as np\n",
        "matriz=np.array([[1,2],[2,6]])\n",
        "print(matriz)"
      ],
      "metadata": {
        "colab": {
          "base_uri": "https://localhost:8080/"
        },
        "id": "oSsvVdfG2cuX",
        "outputId": "3ce318e9-7dd9-454f-cd25-b807addf2579"
      },
      "execution_count": null,
      "outputs": [
        {
          "output_type": "stream",
          "name": "stdout",
          "text": [
            "[[1 2]\n",
            " [2 6]]\n"
          ]
        }
      ]
    },
    {
      "cell_type": "code",
      "source": [
        "\n",
        "\n",
        "matriz = np.array([[1, 2, 3], [4, 5, 6], [7, 8, 9]])\n",
        "\n",
        "escalar = 2\n",
        "\n",
        "#Recorrer la matriz como columnas y multiplicar por el escalar\n",
        "\n",
        "for j in range(matriz.shape[1]):\n",
        "  columna = \"\"\n",
        "  for i in range(matriz.shape[0]):\n",
        "    columna += str(matriz[i, j] * escalar) + \" \"\n",
        "  print(f\"Columna {j+1}: {columna}\")"
      ],
      "metadata": {
        "id": "WbAGhWzbJigT",
        "colab": {
          "base_uri": "https://localhost:8080/"
        },
        "outputId": "526ab033-ca6c-47e3-9bc2-4863e82a5345"
      },
      "execution_count": null,
      "outputs": [
        {
          "output_type": "stream",
          "name": "stdout",
          "text": [
            "Columna 1: 2 8 14 \n",
            "Columna 2: 4 10 16 \n",
            "Columna 3: 6 12 18 \n"
          ]
        }
      ]
    },
    {
      "cell_type": "code",
      "source": [
        "import numpy as np\n",
        "# creando una matris 2*2 =\n",
        "matriz = np.array([[1, 2], [3, 4]])# la creamos\n",
        "print(matriz)# esta es la forma de mostrarla\n",
        "\n",
        "# creamos la matriz para llenar las de ceros\n",
        "matriz1=np.zeros((3,2))\n",
        "#                 f,c\n",
        "# f= 3 filas y c = 2 columnas\n",
        "print(\"\\033[31m\",matriz1)\n",
        "\n",
        "# otra forma de imprimir en colores\n",
        "from rich import print\n",
        "# productos de matrices\n",
        "matriz2 = np.array([[5, 6], [7, 8]])\n",
        "matriz3= np.array([[9, 10], [11, 12]])\n",
        "# el producto de una  dos matrices debe cumplir unas condiciones\n",
        "#https://www.matesfacil.com/matrices/resueltos-matrices-producto.html\n",
        "print(\"[blue]el producto de la matriz[/blue]\")\n",
        "producto=matriz2.dot(matriz3)\n",
        "print(\"[blue] el resultado es[/blue]\",producto)\n",
        "# transpuesta de una matriz, significa que cambia el orden\n",
        "transpuesta = matriz2.T\n",
        "print(\"[purple] la transpuesta de la matriz es[/purple]\", transpuesta)\n",
        "#suma de matrieces\n",
        "suma = matriz2 + matriz3\n",
        "print(\"[orange] la suma de la matriz es[/orange]\", suma)\n",
        "# resta de matrices\n",
        "resta = matriz2 - matriz3\n",
        "print(\"[red] la resta de la matriz es[/red]\", resta)\n",
        "#multiplicar por un valor escarlar de una matris 3 * 6\n",
        "matriz4 = np.array([[1,2,8,9,3,7], [3,4,5,6,7,8],[6,4,3,2,1,0]])\n",
        "escalar=2\n",
        "producto_escalar = matriz4 * escalar\n",
        "print(\"[yellow] la matriz antes del escalar es[/yellow]\", matriz4)\n",
        "print(\"[green] el producto escalar de la matriz es[/green]\", producto_escalar)\n",
        "# otra forma de hacerlo\n",
        "producto_escalar2 = np.multiply(matriz4, escalar)\n",
        "print(\"[green] el producto escalar de la matriz es[/green]\", producto_escalar2)\n",
        "\n",
        "\"\"\"otra forma de realizarla pero con ciclo for, recorriendo filas y columnas\n",
        "pero antes vamos a imprimir la matriz4 usando el ciclo\n",
        "\"\"\"\n",
        "# shape nos da la forma de la matriz\n",
        "# str nos da la forma de imprimir otra cosa es que convierte en texto\n",
        "print(\"[yellow] el es calar es [/yellow]\",)\n",
        "for j in range(matriz4.shape[1]):\n",
        "    columna = \"\"\n",
        "    for i in range(matriz4.shape[0]):\n",
        "        columna += str(matriz4[i, j] * escalar) + \" \"\n",
        "    print(f\"Columna {j+1}: {columna}\")\n",
        "# diagolal superior en matrices\n",
        "\n",
        "n=8# tamaño filas y columnas\n",
        "\n",
        "diagonalSuperior=np.triu(np.ones((n,n)))\n",
        "# vamos a imprimir la diagonal superior de color naranja\n",
        "print(\"[orange] esta es la diagonal[/orange]\",diagonalSuperior)\n",
        "matriz5=np.zeros((n,n))\n",
        "print(\"[violet]matriz 5[/violet]\", matriz5)\n",
        "# esta matriz5 es la que vamos a trabajar con ciclos\n",
        "for f in range(n):\n",
        "    for c in range(n):\n",
        "        if c>=f:\n",
        "            matriz5[f,c]=1\n",
        "print(\"[purple]el resultado es [/purple]\",matriz5)\n",
        "\n"
      ],
      "metadata": {
        "id": "0JB54R0rRIxB"
      },
      "execution_count": null,
      "outputs": []
    },
    {
      "cell_type": "markdown",
      "source": [
        "[texto del vínculo clase del 22 de agosto](https://github.com/LillianaU/arrelgosFicha08.git)"
      ],
      "metadata": {
        "id": "CbbR2hcCr9ie"
      }
    },
    {
      "cell_type": "markdown",
      "source": [
        "porgramacion orientada objetos [texto del enlace](https://colab.research.google.com/drive/1t0_MSu46hWQvrkXADId8R_cLlKN_bTpW#scrollTo=CbbR2hcCr9ie)\n",
        "[poo](https://www.youtube.com/watch?v=QOFztAlSSfM&list=PL9biahwqezWO6E-seoXoBs-_pDu5jntPs&ab_channel=LillianaUribeG)\n"
      ],
      "metadata": {
        "id": "W2WUTSg2OKGV"
      }
    },
    {
      "cell_type": "code",
      "source": [
        "# https://docs.google.com/presentation/d/1VQm1JuFtG2ecMYijGqd0VorzbfRoamYw/edit?slide=id.p1#slide=id.p1\n",
        "# https://www.youtube.com/watch?v=QOFztAlSSfM&list=PL9biahwqezWO6E-seoXoBs-_pDu5jntPs&ab_channel=LillianaUribeG"
      ],
      "metadata": {
        "id": "UVnTfu8vOJ6f"
      },
      "execution_count": null,
      "outputs": []
    },
    {
      "cell_type": "code",
      "source": [
        "# tuplas solo se crean y consulta pero no se puede hacer nada mas por que\n",
        "# es inmutable  son inmutables es decir, no eleimi datos, no se puede agregar\n",
        "# mas informacion pero permite crear listas en base de los datos que el tiene\n",
        "# puedo extrar informacion de su indoice y llevarla a otra variable\n",
        "# como se crea??\n",
        "tupla=(1,2,3,4,5)\n",
        "print(tupla)\n",
        "tuplaVacia=()\n",
        "print(tuplaVacia)\n",
        "tuplaUnitaria=(1,)\n",
        "print(tuplaUnitaria)\n",
        "#¿inmutable la tupla puede agregar elementos des pesud e crearla?\n",
        "# NOOOOOOOOO jovenes nooo\n",
        "#quiero  buscar elemento y contar cuantas veces esta un valor\n",
        "tupla2=(22,2,22,3,3,4,4,5,0)\n",
        "#        0  1 2  3 4 5 6 7 8 realemnte 9\n",
        "print(\"busca cuantas veces esta el numero 22 = \",tupla2.count(22))\n",
        "# en la posicion 3 que valor hay\n",
        "print(\"en la posicion 3 que valor hay = \",tupla2[3])\n",
        "tupla2=(0,)*5\n",
        "print(tupla2)\n",
        "tubla3=(\"soy super hermosa divina\",)*4\n",
        "print(tubla3)\n",
        "tupla_suma=(1,2,3)+(4,5,6)\n",
        "print(tupla_suma)\n",
        "superTupla=sum(tupla_suma)\n",
        "print(superTupla)\n",
        "\n"
      ],
      "metadata": {
        "id": "DEt6WEjosE4D",
        "colab": {
          "base_uri": "https://localhost:8080/"
        },
        "outputId": "03751db7-f807-4bb6-ac5f-17378e762a74"
      },
      "execution_count": null,
      "outputs": [
        {
          "output_type": "stream",
          "name": "stdout",
          "text": [
            "(1, 2, 3, 4, 5)\n",
            "()\n",
            "(1,)\n",
            "busca cuantas veces esta el numero 22 =  2\n",
            "en la posicion 3 que valor hay =  3\n",
            "(0, 0, 0, 0, 0)\n",
            "('soy super hermosa divina', 'soy super hermosa divina', 'soy super hermosa divina', 'soy super hermosa divina')\n",
            "(1, 2, 3, 4, 5, 6)\n",
            "21\n"
          ]
        }
      ]
    },
    {
      "cell_type": "markdown",
      "source": [
        "con conjuntos en python mutables y podemos hacer operaciones que son matematicas, es decir teoria de conjuntos.\n",
        "[texto del enlace](https://blog.nekomath.com/teoria-de-los-conjuntos-operaciones-entre-conjuntos/)\n",
        "\n"
      ],
      "metadata": {
        "id": "4BHA9kpwX_Dz"
      }
    },
    {
      "cell_type": "code",
      "source": [
        "\"\"\"\n",
        "esto nos puede servir para entnder la logica de base de datos relacionales\n",
        "y no relacionales.\n",
        "leer base de datos.\n",
        "\n",
        "https://www.diegocalvo.es/bases-de-datos/\n",
        "\"\"\"\n",
        "# creacion , las diferentes propiedades de los conjuntos, adicional\n",
        "#otras operaciones.\n",
        "## cracion de  los conjuntos\n",
        "A={1,2,3,4,5,6,7,8,9,10}# primer conjunto\n",
        "B={2,4,6,8,10,12,14,16,18,20}# segundo conjunto\n",
        "C={1,2,3,4,5,6,7,8,9,10,11,12,13,14,15,16,17,18,19,20}\n",
        "#Union\n",
        "union=A.union(B)\n",
        "print(union)\n",
        "#interseccion\n",
        "interseccion=A.intersection(B)\n",
        "print(interseccion)\n",
        "#diferencia\n",
        "diferencia=A.difference(B)\n",
        "print(diferencia)\n",
        "# agregar valores\n",
        "D={1,3,5}\n",
        "D.add(10)\n",
        "print(\"d\",D)\n",
        "# eleiminar una pocision\n",
        "A.remove(10)\n",
        "print(A)\n",
        "#conjunto para actualizar\n",
        "E={1,2,3}\n",
        "F={4,5,6}\n",
        "E.update(F)\n",
        "print(\"actualizada E\",E)"
      ],
      "metadata": {
        "colab": {
          "base_uri": "https://localhost:8080/"
        },
        "id": "LBEoUhVgysY3",
        "outputId": "a189e7a1-ee85-453b-888e-c3bd6daca794"
      },
      "execution_count": 10,
      "outputs": [
        {
          "output_type": "stream",
          "name": "stdout",
          "text": [
            "{1, 2, 3, 4, 5, 6, 7, 8, 9, 10, 12, 14, 16, 18, 20}\n",
            "{2, 4, 6, 8, 10}\n",
            "{1, 3, 5, 7, 9}\n",
            "d {1, 10, 3, 5}\n",
            "{1, 2, 3, 4, 5, 6, 7, 8, 9}\n",
            "actualizada E {1, 2, 3, 4, 5, 6}\n"
          ]
        }
      ]
    },
    {
      "cell_type": "code",
      "source": [
        "# actualizar un solo dato\n",
        "conjunto={1,2,3}\n",
        "conjunto.update((4,))\n",
        "print(conjunto)"
      ],
      "metadata": {
        "colab": {
          "base_uri": "https://localhost:8080/"
        },
        "id": "mEPHIFBY_LZL",
        "outputId": "dab3cd44-fc31-4c07-efea-77835a510721"
      },
      "execution_count": 11,
      "outputs": [
        {
          "output_type": "stream",
          "name": "stdout",
          "text": [
            "{1, 2, 3, 4}\n"
          ]
        }
      ]
    },
    {
      "cell_type": "code",
      "source": [
        "# simular realemente una actualizacion\n",
        "conjunto={1,2,3}\n",
        "conjunto.update([4,5,6])\n",
        "print(conjunto)\n",
        "## agraga a conjunto esos valores\n",
        "conjunto.remove(2)\n",
        "print(conjunto)\n",
        "conjunto.add(6)\n",
        "#queremos que el conjunto la recorra crea uno nuevo pero sin el 6\n",
        "conjunto2=conjunto.difference({6})\n",
        "print(conjunto2)\n",
        "# consiclos en este caso quitams el 4\n",
        "nuevoConjunto={x for x in conjunto if x!=4}\n",
        "print(nuevoConjunto)"
      ],
      "metadata": {
        "colab": {
          "base_uri": "https://localhost:8080/"
        },
        "id": "bTgjyW8z_n5O",
        "outputId": "7ca616ec-ab68-420c-f6a5-6dd237fb5dbd"
      },
      "execution_count": 13,
      "outputs": [
        {
          "output_type": "stream",
          "name": "stdout",
          "text": [
            "{1, 2, 3, 4, 5, 6}\n",
            "{1, 3, 4, 5, 6}\n",
            "{1, 3, 4, 5}\n",
            "{1, 3, 5, 6}\n"
          ]
        }
      ]
    },
    {
      "cell_type": "code",
      "source": [
        "#dicionarios\n",
        "# desde lo mas basico que es crearla , operaciones crud, con un solo dato\n",
        "# con multimples datos\n",
        "MiPrimerDiccionario={\n",
        "    \"id\":\"23456\",\n",
        "    \"nombre\":\"Lilliana\",\n",
        "    \"apellido\":\"Uribe\"}\n",
        "print(MiPrimerDiccionario)\n",
        "# ejemplo consultar por clave  id o valor ejemplo 23456"
      ],
      "metadata": {
        "colab": {
          "base_uri": "https://localhost:8080/"
        },
        "id": "fnPlLpJ0A_id",
        "outputId": "bea5a2c5-81f5-4347-cbf9-12f37ef2b6a3"
      },
      "execution_count": 15,
      "outputs": [
        {
          "output_type": "stream",
          "name": "stdout",
          "text": [
            "{'id': '23456', 'nombre': 'Lilliana', 'apellido': 'Uribe'}\n"
          ]
        }
      ]
    }
  ]
}